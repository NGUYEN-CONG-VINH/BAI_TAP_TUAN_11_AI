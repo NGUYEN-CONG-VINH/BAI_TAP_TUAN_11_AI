{
  "nbformat": 4,
  "nbformat_minor": 0,
  "metadata": {
    "colab": {
      "provenance": [],
      "authorship_tag": "ABX9TyMlHrxP8LDgSULB6kksA+ht",
      "include_colab_link": true
    },
    "kernelspec": {
      "name": "python3",
      "display_name": "Python 3"
    },
    "language_info": {
      "name": "python"
    }
  },
  "cells": [
    {
      "cell_type": "markdown",
      "metadata": {
        "id": "view-in-github",
        "colab_type": "text"
      },
      "source": [
        "<a href=\"https://colab.research.google.com/github/NGUYEN-CONG-VINH/BAI_TAP_TUAN_11_AI/blob/main/fashion_mnist.ipynb\" target=\"_parent\"><img src=\"https://colab.research.google.com/assets/colab-badge.svg\" alt=\"Open In Colab\"/></a>"
      ]
    },
    {
      "cell_type": "code",
      "execution_count": 1,
      "metadata": {
        "colab": {
          "base_uri": "https://localhost:8080/"
        },
        "id": "nuOqEK9yXTT4",
        "outputId": "6c62e906-4a26-4848-decb-8db015760849"
      },
      "outputs": [
        {
          "output_type": "stream",
          "name": "stdout",
          "text": [
            "Mounted at /content/drive\n"
          ]
        }
      ],
      "source": [
        "# Nguyễn Công Vinh 20146183\n",
        "from google.colab import drive\n",
        "drive.mount('/content/drive')"
      ]
    },
    {
      "cell_type": "code",
      "source": [
        "from keras.datasets import fashion_mnist\n",
        "(train_x,train_y),(test_x,test_y)=fashion_mnist.load_data()"
      ],
      "metadata": {
        "id": "RuIYzFyIXWpB"
      },
      "execution_count": 28,
      "outputs": []
    },
    {
      "cell_type": "code",
      "source": [
        "train_x.shape"
      ],
      "metadata": {
        "colab": {
          "base_uri": "https://localhost:8080/"
        },
        "id": "9cJgtIr1XsQB",
        "outputId": "605fa7d6-6fb6-4cae-8b89-172a9c7b6a6b"
      },
      "execution_count": 29,
      "outputs": [
        {
          "output_type": "execute_result",
          "data": {
            "text/plain": [
              "(60000, 28, 28)"
            ]
          },
          "metadata": {},
          "execution_count": 29
        }
      ]
    },
    {
      "cell_type": "code",
      "source": [
        "train_y.shape"
      ],
      "metadata": {
        "colab": {
          "base_uri": "https://localhost:8080/"
        },
        "id": "D4rq3bTYX_MZ",
        "outputId": "39f3aea8-0c9b-4351-b723-f29961d98dfe"
      },
      "execution_count": 30,
      "outputs": [
        {
          "output_type": "execute_result",
          "data": {
            "text/plain": [
              "(60000,)"
            ]
          },
          "metadata": {},
          "execution_count": 30
        }
      ]
    },
    {
      "cell_type": "code",
      "source": [
        "test_x.shape"
      ],
      "metadata": {
        "colab": {
          "base_uri": "https://localhost:8080/"
        },
        "id": "mC8pB0NuYCnK",
        "outputId": "87207b13-fc41-4db4-fed9-51c88ef2ddd7"
      },
      "execution_count": 31,
      "outputs": [
        {
          "output_type": "execute_result",
          "data": {
            "text/plain": [
              "(10000, 28, 28)"
            ]
          },
          "metadata": {},
          "execution_count": 31
        }
      ]
    },
    {
      "cell_type": "code",
      "source": [
        "import matplotlib.pyplot as plt\n",
        "plt.figure(figsize=[10,10])\n",
        "plt.subplot(121)\n",
        "plt.imshow(train_x[0],cmap='gray')\n",
        "plt.title('so:{}'.format(train_y[0]))\n",
        "plt.subplot(122)\n",
        "plt.imshow(train_x[100],cmap='gray')\n",
        "plt.title('so:{}'.format(train_y[100]))"
      ],
      "metadata": {
        "colab": {
          "base_uri": "https://localhost:8080/",
          "height": 452
        },
        "id": "MbUpH6q9YIfu",
        "outputId": "cdf604bf-1897-4b53-de50-fb125f91cfa2"
      },
      "execution_count": 32,
      "outputs": [
        {
          "output_type": "execute_result",
          "data": {
            "text/plain": [
              "Text(0.5, 1.0, 'so:8')"
            ]
          },
          "metadata": {},
          "execution_count": 32
        },
        {
          "output_type": "display_data",
          "data": {
            "text/plain": [
              "<Figure size 1000x1000 with 2 Axes>"
            ],
            "image/png": "[encoded data removed]"
          },
          "metadata": {}
        }
      ]
    },
    {
      "cell_type": "code",
      "source": [
        "train_x=train_x.reshape((60000,28,28,1))\n",
        "train_x=train_x.astype('float32')/255\n",
        "test_x=test_x.reshape((10000,28,28,1))\n",
        "test_x=test_x.astype('float32')/255\n",
        "print(train_x.shape)\n",
        "print(test_x.shape)"
      ],
      "metadata": {
        "colab": {
          "base_uri": "https://localhost:8080/"
        },
        "id": "02LaKDpLZS-Q",
        "outputId": "325de69d-8124-4846-9d49-750e073ed64a"
      },
      "execution_count": 33,
      "outputs": [
        {
          "output_type": "stream",
          "name": "stdout",
          "text": [
            "(60000, 28, 28, 1)\n",
            "(10000, 28, 28, 1)\n"
          ]
        }
      ]
    },
    {
      "cell_type": "code",
      "source": [
        "from keras.utils import to_categorical# chuyển qua one host encording\n",
        "train_y=to_categorical(train_y)\n",
        "test_y=to_categorical(test_y)"
      ],
      "metadata": {
        "id": "1_sBjFiFaH01"
      },
      "execution_count": 34,
      "outputs": []
    },
    {
      "cell_type": "code",
      "source": [
        "from keras.models import Sequential,Model\n",
        "from keras.layers import Dense,Flatten,Dropout,Conv2D,MaxPooling2D,Normalization,Input\n",
        "from keras.optimizers import Adam #toc do hoc 0.01\n",
        "batch_size=64\n",
        "epochs=20\n",
        "classes=10"
      ],
      "metadata": {
        "id": "qXbhRdCFam_9"
      },
      "execution_count": 35,
      "outputs": []
    },
    {
      "cell_type": "code",
      "source": [
        "from keras.layers.attention.multi_head_attention import activation\n",
        "from keras.layers import LeakyReLU\n",
        "model=Sequential()\n",
        "model.add(Conv2D(32,kernel_size=(3,3),activation='linear',input_shape=(28,28,1),padding='same'))\n",
        "#from keras.layers.advanced_activations import LeakyRelU\n",
        "model.add(LeakyReLU(alpha=0.1))\n",
        "model.add(MaxPooling2D((2,2),padding='same'))\n",
        "\n",
        "model.add(Conv2D(64,kernel_size=(3,3),activation='linear',input_shape=(28,28,1),padding='same'))\n",
        "model.add(LeakyReLU(alpha=0.1))\n",
        "model.add(MaxPooling2D((2,2),padding='same'))\n",
        "\n",
        "model.add(Conv2D(128,kernel_size=(3,3),activation='linear',input_shape=(28,28,1),padding='same'))\n",
        "model.add(LeakyReLU(alpha=0.1))\n",
        "model.add(MaxPooling2D((2,2),padding='same'))\n"
      ],
      "metadata": {
        "id": "VYfloPlnc9c3"
      },
      "execution_count": 37,
      "outputs": []
    },
    {
      "cell_type": "code",
      "source": [
        "#đưa về ANN\n",
        "model.add(Flatten()) #chuyển thành vecto\n",
        "model.add(Dense(128,activation='linear'))\n",
        "model.add(LeakyReLU(alpha=0.1))\n",
        "model.add(Dense(classes,activation='softmax'))\n",
        "model.summary()"
      ],
      "metadata": {
        "colab": {
          "base_uri": "https://localhost:8080/"
        },
        "id": "CyAZWfgUd71V",
        "outputId": "524e50cf-ff43-4106-8958-0f8581990e51"
      },
      "execution_count": 38,
      "outputs": [
        {
          "output_type": "stream",
          "name": "stdout",
          "text": [
            "Model: \"sequential_6\"\n",
            "_________________________________________________________________\n",
            " Layer (type)                Output Shape              Param #   \n",
            "=================================================================\n",
            " conv2d_9 (Conv2D)           (None, 28, 28, 32)        320       \n",
            "                                                                 \n",
            " leaky_re_lu_8 (LeakyReLU)   (None, 28, 28, 32)        0         \n",
            "                                                                 \n",
            " max_pooling2d_8 (MaxPooling  (None, 14, 14, 32)       0         \n",
            " 2D)                                                             \n",
            "                                                                 \n",
            " conv2d_10 (Conv2D)          (None, 14, 14, 64)        18496     \n",
            "                                                                 \n",
            " leaky_re_lu_9 (LeakyReLU)   (None, 14, 14, 64)        0         \n",
            "                                                                 \n",
            " max_pooling2d_9 (MaxPooling  (None, 7, 7, 64)         0         \n",
            " 2D)                                                             \n",
            "                                                                 \n",
            " conv2d_11 (Conv2D)          (None, 7, 7, 128)         73856     \n",
            "                                                                 \n",
            " leaky_re_lu_10 (LeakyReLU)  (None, 7, 7, 128)         0         \n",
            "                                                                 \n",
            " max_pooling2d_10 (MaxPoolin  (None, 4, 4, 128)        0         \n",
            " g2D)                                                            \n",
            "                                                                 \n",
            " flatten (Flatten)           (None, 2048)              0         \n",
            "                                                                 \n",
            " dense (Dense)               (None, 128)               262272    \n",
            "                                                                 \n",
            " leaky_re_lu_11 (LeakyReLU)  (None, 128)               0         \n",
            "                                                                 \n",
            " dense_1 (Dense)             (None, 10)                1290      \n",
            "                                                                 \n",
            "=================================================================\n",
            "Total params: 356,234\n",
            "Trainable params: 356,234\n",
            "Non-trainable params: 0\n",
            "_________________________________________________________________\n"
          ]
        }
      ]
    },
    {
      "cell_type": "code",
      "source": [
        "from tensorflow.python import summary\n",
        "from keras.losses import categorical_crossentropy\n",
        "model.compile(loss='categorical_crossentropy',optimizer='Adam',metrics=['accuracy'])\n",
        "model.summary()"
      ],
      "metadata": {
        "colab": {
          "base_uri": "https://localhost:8080/"
        },
        "id": "UYPs3eE6hSyv",
        "outputId": "40340de1-e5c5-4a6f-d164-9ceed4642dc7"
      },
      "execution_count": 44,
      "outputs": [
        {
          "output_type": "stream",
          "name": "stdout",
          "text": [
            "Model: \"sequential_6\"\n",
            "_________________________________________________________________\n",
            " Layer (type)                Output Shape              Param #   \n",
            "=================================================================\n",
            " conv2d_9 (Conv2D)           (None, 28, 28, 32)        320       \n",
            "                                                                 \n",
            " leaky_re_lu_8 (LeakyReLU)   (None, 28, 28, 32)        0         \n",
            "                                                                 \n",
            " max_pooling2d_8 (MaxPooling  (None, 14, 14, 32)       0         \n",
            " 2D)                                                             \n",
            "                                                                 \n",
            " conv2d_10 (Conv2D)          (None, 14, 14, 64)        18496     \n",
            "                                                                 \n",
            " leaky_re_lu_9 (LeakyReLU)   (None, 14, 14, 64)        0         \n",
            "                                                                 \n",
            " max_pooling2d_9 (MaxPooling  (None, 7, 7, 64)         0         \n",
            " 2D)                                                             \n",
            "                                                                 \n",
            " conv2d_11 (Conv2D)          (None, 7, 7, 128)         73856     \n",
            "                                                                 \n",
            " leaky_re_lu_10 (LeakyReLU)  (None, 7, 7, 128)         0         \n",
            "                                                                 \n",
            " max_pooling2d_10 (MaxPoolin  (None, 4, 4, 128)        0         \n",
            " g2D)                                                            \n",
            "                                                                 \n",
            " flatten (Flatten)           (None, 2048)              0         \n",
            "                                                                 \n",
            " dense (Dense)               (None, 128)               262272    \n",
            "                                                                 \n",
            " leaky_re_lu_11 (LeakyReLU)  (None, 128)               0         \n",
            "                                                                 \n",
            " dense_1 (Dense)             (None, 10)                1290      \n",
            "                                                                 \n",
            "=================================================================\n",
            "Total params: 356,234\n",
            "Trainable params: 356,234\n",
            "Non-trainable params: 0\n",
            "_________________________________________________________________\n"
          ]
        }
      ]
    },
    {
      "cell_type": "code",
      "source": [
        "train = model.fit(train_x,train_y,batch_size=batch_size,epochs=epochs,verbose=1)"
      ],
      "metadata": {
        "colab": {
          "base_uri": "https://localhost:8080/"
        },
        "id": "3SeA5qcbjXnF",
        "outputId": "c6f844b8-068b-42a8-adac-2e3a30015980"
      },
      "execution_count": 45,
      "outputs": [
        {
          "output_type": "stream",
          "name": "stdout",
          "text": [
            "Epoch 1/20\n",
            "938/938 [==============================] - 132s 139ms/step - loss: 0.4373 - accuracy: 0.8403\n",
            "Epoch 2/20\n",
            "938/938 [==============================] - 126s 135ms/step - loss: 0.2712 - accuracy: 0.9011\n",
            "Epoch 3/20\n",
            "938/938 [==============================] - 135s 144ms/step - loss: 0.2275 - accuracy: 0.9162\n",
            "Epoch 4/20\n",
            "938/938 [==============================] - 140s 149ms/step - loss: 0.1953 - accuracy: 0.9272\n",
            "Epoch 5/20\n",
            "938/938 [==============================] - 134s 143ms/step - loss: 0.1709 - accuracy: 0.9368\n",
            "Epoch 6/20\n",
            "938/938 [==============================] - 130s 138ms/step - loss: 0.1476 - accuracy: 0.9444\n",
            "Epoch 7/20\n",
            "938/938 [==============================] - 127s 135ms/step - loss: 0.1292 - accuracy: 0.9522\n",
            "Epoch 8/20\n",
            "938/938 [==============================] - 128s 137ms/step - loss: 0.1104 - accuracy: 0.9581\n",
            "Epoch 9/20\n",
            "938/938 [==============================] - 126s 135ms/step - loss: 0.0941 - accuracy: 0.9650\n",
            "Epoch 10/20\n",
            "938/938 [==============================] - 129s 137ms/step - loss: 0.0813 - accuracy: 0.9696\n",
            "Epoch 11/20\n",
            "938/938 [==============================] - 126s 135ms/step - loss: 0.0692 - accuracy: 0.9736\n",
            "Epoch 12/20\n",
            "938/938 [==============================] - 131s 139ms/step - loss: 0.0598 - accuracy: 0.9771\n",
            "Epoch 13/20\n",
            "938/938 [==============================] - 128s 136ms/step - loss: 0.0517 - accuracy: 0.9806\n",
            "Epoch 14/20\n",
            "938/938 [==============================] - 128s 137ms/step - loss: 0.0472 - accuracy: 0.9827\n",
            "Epoch 15/20\n",
            "938/938 [==============================] - 127s 135ms/step - loss: 0.0411 - accuracy: 0.9847\n",
            "Epoch 16/20\n",
            "938/938 [==============================] - 128s 137ms/step - loss: 0.0386 - accuracy: 0.9854\n",
            "Epoch 17/20\n",
            "938/938 [==============================] - 127s 136ms/step - loss: 0.0376 - accuracy: 0.9860\n",
            "Epoch 18/20\n",
            "938/938 [==============================] - 127s 136ms/step - loss: 0.0305 - accuracy: 0.9890\n",
            "Epoch 19/20\n",
            "938/938 [==============================] - 128s 136ms/step - loss: 0.0302 - accuracy: 0.9889\n",
            "Epoch 20/20\n",
            "938/938 [==============================] - 128s 136ms/step - loss: 0.0327 - accuracy: 0.9882\n"
          ]
        }
      ]
    },
    {
      "cell_type": "code",
      "source": [
        "model.save('/content/drive/MyDrive/colab/model1_fashion_mnist.h5')"
      ],
      "metadata": {
        "id": "2hjlTwA3maxi"
      },
      "execution_count": 46,
      "outputs": []
    },
    {
      "cell_type": "code",
      "source": [
        "from keras.models import load_model\n",
        "model100=load_model('/content/drive/MyDrive/colab/model_fashion_mnist.h5')"
      ],
      "metadata": {
        "id": "nTmd2tCOlcOg"
      },
      "execution_count": null,
      "outputs": []
    },
    {
      "cell_type": "code",
      "source": [
        "eval=model.evaluate(test_x,test_y,verbose=0)\n",
        "print('Test loss',eval[0])\n",
        "print('Test accuracy',eval[1])\n",
        "accuracy=train.history['accuracy']\n",
        "val_accuracy=train.history['loss']\n",
        "epochs=range(len(accuracy))\n",
        "plt.plot(epochs,accuracy,'bo')\n",
        "plt.plot(epochs,val_accuracy,'b')\n",
        "plt.title('Traning and Testing Accuracy')\n"
      ],
      "metadata": {
        "colab": {
          "base_uri": "https://localhost:8080/",
          "height": 504
        },
        "id": "JOkvYBhol8bj",
        "outputId": "64677c3e-b7cf-4002-a1c9-507291e6e9df"
      },
      "execution_count": 49,
      "outputs": [
        {
          "output_type": "stream",
          "name": "stdout",
          "text": [
            "Test loss 0.4673660695552826\n",
            "Test accuracy 0.9187999963760376\n"
          ]
        },
        {
          "output_type": "execute_result",
          "data": {
            "text/plain": [
              "Text(0.5, 1.0, 'Traning and Testing Accuracy')"
            ]
          },
          "metadata": {},
          "execution_count": 49
        },
        {
          "output_type": "display_data",
          "data": {
            "text/plain": [
              "<Figure size 640x480 with 1 Axes>"
            ],
            "image/png": "[encoded data removed]"
          },
          "metadata": {}
        }
      ]
    }
  ]
}